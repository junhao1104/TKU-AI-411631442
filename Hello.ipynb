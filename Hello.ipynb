{
  "nbformat": 4,
  "nbformat_minor": 0,
  "metadata": {
    "colab": {
      "provenance": [],
      "authorship_tag": "ABX9TyP+bgzEKagXy5G0JNpyK4t+",
      "include_colab_link": true
    },
    "kernelspec": {
      "name": "python3",
      "display_name": "Python 3"
    },
    "language_info": {
      "name": "python"
    }
  },
  "cells": [
    {
      "cell_type": "markdown",
      "metadata": {
        "id": "view-in-github",
        "colab_type": "text"
      },
      "source": [
        "<a href=\"https://colab.research.google.com/github/junhao1104/TKU-AI-411631442/blob/main/Hello.ipynb\" target=\"_parent\"><img src=\"https://colab.research.google.com/assets/colab-badge.svg\" alt=\"Open In Colab\"/></a>"
      ]
    },
    {
      "cell_type": "code",
      "execution_count": null,
      "metadata": {
        "id": "xPIIjinyXYQK"
      },
      "outputs": [],
      "source": [
        "print(type(56))"
      ]
    },
    {
      "cell_type": "code",
      "source": [
        "print(type(56.0))"
      ],
      "metadata": {
        "id": "mk4E7rSUZ1v1"
      },
      "execution_count": null,
      "outputs": []
    },
    {
      "cell_type": "code",
      "source": [
        "print(type(\"Hy man <how are you?\"))"
      ],
      "metadata": {
        "id": "bpvdmA5SZ11l"
      },
      "execution_count": null,
      "outputs": []
    },
    {
      "cell_type": "code",
      "source": [
        "print(type(true))"
      ],
      "metadata": {
        "id": "8wxPJITkZ14d"
      },
      "execution_count": null,
      "outputs": []
    },
    {
      "cell_type": "code",
      "source": [
        "str1=\"Junhao說:'Hey,你好!'\""
      ],
      "metadata": {
        "id": "W-xHVSKYZ17E"
      },
      "execution_count": null,
      "outputs": []
    },
    {
      "cell_type": "code",
      "source": [
        "str2='Junhao說\"Hey,你好!\"'"
      ],
      "metadata": {
        "id": "BRgsrNYGZ19c"
      },
      "execution_count": null,
      "outputs": []
    },
    {
      "cell_type": "code",
      "source": [
        "print(午安 同學好 打起精神來!!!)"
      ],
      "metadata": {
        "id": "4Sk7TIMNbbiW"
      },
      "execution_count": null,
      "outputs": []
    },
    {
      "cell_type": "code",
      "source": [
        "prin(下午好,平安順心,健康如意!!!)"
      ],
      "metadata": {
        "id": "ECBdJ5pVbbkw"
      },
      "execution_count": null,
      "outputs": []
    }
  ]
}