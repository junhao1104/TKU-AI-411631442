{
  "nbformat": 4,
  "nbformat_minor": 0,
  "metadata": {
    "colab": {
      "provenance": [],
      "authorship_tag": "ABX9TyPmAyLppT+VgL2x/WU6QCFh",
      "include_colab_link": true
    },
    "kernelspec": {
      "name": "python3",
      "display_name": "Python 3"
    },
    "language_info": {
      "name": "python"
    }
  },
  "cells": [
    {
      "cell_type": "markdown",
      "metadata": {
        "id": "view-in-github",
        "colab_type": "text"
      },
      "source": [
        "<a href=\"https://colab.research.google.com/github/junhao1104/TKU-AI-411631442/blob/main/20220927.ipynb\" target=\"_parent\"><img src=\"https://colab.research.google.com/assets/colab-badge.svg\" alt=\"Open In Colab\"/></a>"
      ]
    },
    {
      "cell_type": "code",
      "execution_count": null,
      "metadata": {
        "id": "smPIZs3UiLL6"
      },
      "outputs": [],
      "source": []
    },
    {
      "cell_type": "code",
      "source": [
        "inport matplotlib.pyplot as plt #繪圖函式庫"
      ],
      "metadata": {
        "colab": {
          "base_uri": "https://localhost:8080/",
          "height": 132
        },
        "id": "nGdsv44Kjf5k",
        "outputId": "f6cc7ad8-f644-47cc-fd5d-2569f59e21af"
      },
      "execution_count": 1,
      "outputs": [
        {
          "output_type": "error",
          "ename": "SyntaxError",
          "evalue": "ignored",
          "traceback": [
            "\u001b[0;36m  File \u001b[0;32m\"<ipython-input-1-4bdcda68014d>\"\u001b[0;36m, line \u001b[0;32m1\u001b[0m\n\u001b[0;31m    inport matplotlib.pyplot as plt #繪圖函式庫\u001b[0m\n\u001b[0m                    ^\u001b[0m\n\u001b[0;31mSyntaxError\u001b[0m\u001b[0;31m:\u001b[0m invalid syntax\n"
          ]
        }
      ]
    },
    {
      "cell_type": "code",
      "source": [],
      "metadata": {
        "id": "9EPKSex0jgBb"
      },
      "execution_count": null,
      "outputs": []
    },
    {
      "cell_type": "code",
      "source": [
        "from IPython.core.display import publish_display_data\n",
        "#繪製(黃)色x標記\n",
        "plt.plot([9,9,2,9,6,7,5,6,7,7,]),[9,4,9,2,9,2,9,2,7,1,7,4],'yx'\n",
        "plt.plot([9,9,2,9,6,7,5,6,7,7,]),[9,4,9,2,9,2,9,2,7,1,7,4],'yx'\n",
        "#繪製(黃)色x標記\n",
        "plt.plot([7,2,7,3,7,2,7,3,7,2,7,3,7,3]),[10,3,10,5,9,2,10,2,9,7,10,1,10.1],'gx'\n",
        "plt.plot([6.5,9.0]),[7.8,12.5],'b--'#繪製黑色虛線\n",
        "plt.ylabel('H cm') #設定顯示Y文字\n",
        "plt.xlabel('W cm') #設定顯示x文字\n",
        "\n",
        "#繪製圖表\n",
        "plt.legend(('Orange','Lemons'),loc='upper right')\n",
        "plt.show()"
      ],
      "metadata": {
        "id": "X4fES1DBjgEL"
      },
      "execution_count": null,
      "outputs": []
    },
    {
      "cell_type": "code",
      "source": [],
      "metadata": {
        "id": "0e3p_ZmwjgG9"
      },
      "execution_count": null,
      "outputs": []
    },
    {
      "cell_type": "code",
      "source": [],
      "metadata": {
        "id": "qDrYSOQ1jgJL"
      },
      "execution_count": null,
      "outputs": []
    },
    {
      "cell_type": "code",
      "source": [],
      "metadata": {
        "id": "shVUu_XpjgLj"
      },
      "execution_count": null,
      "outputs": []
    },
    {
      "cell_type": "code",
      "source": [],
      "metadata": {
        "id": "UhiuJMMxjgOL"
      },
      "execution_count": null,
      "outputs": []
    },
    {
      "cell_type": "code",
      "source": [],
      "metadata": {
        "id": "IGe5En7yjgQz"
      },
      "execution_count": null,
      "outputs": []
    },
    {
      "cell_type": "code",
      "source": [],
      "metadata": {
        "id": "9rVbCWaojgT0"
      },
      "execution_count": null,
      "outputs": []
    },
    {
      "cell_type": "code",
      "source": [],
      "metadata": {
        "id": "8w-bjCl2n-5R"
      },
      "execution_count": null,
      "outputs": []
    },
    {
      "cell_type": "code",
      "source": [],
      "metadata": {
        "id": "K7DxRPoojgWL"
      },
      "execution_count": null,
      "outputs": []
    },
    {
      "cell_type": "code",
      "source": [],
      "metadata": {
        "id": "upm2sFpQjgYz"
      },
      "execution_count": null,
      "outputs": []
    },
    {
      "cell_type": "code",
      "source": [],
      "metadata": {
        "id": "6jHzwbCwjgbH"
      },
      "execution_count": null,
      "outputs": []
    },
    {
      "cell_type": "code",
      "source": [],
      "metadata": {
        "id": "A7AQvKh0jgdd"
      },
      "execution_count": null,
      "outputs": []
    }
  ]
}